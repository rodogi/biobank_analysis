{
 "cells": [
  {
   "cell_type": "code",
   "execution_count": 1,
   "id": "b79a6122-2a64-4e59-b4b3-b186378473d6",
   "metadata": {},
   "outputs": [],
   "source": [
    "import pandas as pd\n",
    "import numpy as np\n",
    "import matplotlib.pyplot as plt\n",
    "import seaborn as sns"
   ]
  },
  {
   "cell_type": "code",
   "execution_count": 47,
   "id": "3c17d7db-f6e7-41b4-83a9-41d2dafde603",
   "metadata": {},
   "outputs": [],
   "source": [
    "biobank = pd.read_csv('../../small_data/processed/cohort3.csv')"
   ]
  },
  {
   "cell_type": "code",
   "execution_count": 48,
   "id": "aa79026a-f6d8-4397-8b32-c69f3c29c40e",
   "metadata": {},
   "outputs": [],
   "source": [
    "biobank = biobank.sort_values('Hindex', ascending=False)"
   ]
  },
  {
   "cell_type": "code",
   "execution_count": 51,
   "id": "1e60a476-25f0-4847-81d6-1d58b05d2d96",
   "metadata": {},
   "outputs": [
    {
     "data": {
      "text/plain": [
       "<AxesSubplot:xlabel='Year', ylabel='Hindex'>"
      ]
     },
     "execution_count": 51,
     "metadata": {},
     "output_type": "execute_result"
    },
    {
     "data": {
      "image/png": "[encoded data removed]",
      "text/plain": [
       "<Figure size 432x288 with 1 Axes>"
      ]
     },
     "metadata": {
      "needs_background": "light"
     },
     "output_type": "display_data"
    }
   ],
   "source": [
    "sns.scatterplot(x='Year', y='Hindex', data=biobank)"
   ]
  },
  {
   "cell_type": "code",
   "execution_count": 50,
   "id": "523c4026-06f2-42ed-b8a3-92f5f247b8fb",
   "metadata": {},
   "outputs": [
    {
     "data": {
      "text/plain": [
       "array([['The cardiovascular health study: Design and rationale', 1991,\n",
       "        239.0],\n",
       "       ['Epidemiological approaches to heart disease: the Framingham Study.',\n",
       "        1951, 188.0],\n",
       "       ['UK biobank: an open access resource for identifying the causes of a wide range of complex diseases of middle and old age',\n",
       "        2015, 110.0],\n",
       "       ['The Sleep Heart Health Study: design, rationale, and methods.',\n",
       "        1997, 102.0],\n",
       "       ['The EPIC Project: rationale and study design. European Prospective Investigation into Cancer and Nutrition.',\n",
       "        1997, 100.0],\n",
       "       [\"The Nurses' Health Study: 20-Year Contribution to the Understanding of Health Among Women\",\n",
       "        1997, 95.0],\n",
       "       ['A Multiethnic Cohort in Hawaii and Los Angeles: Baseline Characteristics',\n",
       "        2000, 84.0],\n",
       "       ['The American Cancer Society Cancer Prevention Study II Nutrition Cohort: rationale, study design, and baseline characteristics.',\n",
       "        2002, 80.0],\n",
       "       ['European Prospective Investigation into Cancer and Nutrition (EPIC) calibration study: rationale, design and population characteristics',\n",
       "        2002, 79.0],\n",
       "       ['Cohort Profile: The ‘Children of the 90s’—the index offspring of the Avon Longitudinal Study of Parents and Children',\n",
       "        2013, 79.0],\n",
       "       ['Cohort profile: 1958 British birth cohort (National Child Development Study)',\n",
       "        2006, 72.0],\n",
       "       ['Cohort Profile: The Whitehall II study', 2005, 71.0],\n",
       "       ['The diabetes prevention program: Baseline characteristics of the randomized cohort',\n",
       "        2000, 70.0],\n",
       "       ['The Rush Memory and Aging Project: study design and baseline characteristics of the study cohort.',\n",
       "        2005, 67.0],\n",
       "       ['Cohort Profile: The Avon Longitudinal Study of Parents and Children: ALSPAC mothers cohort',\n",
       "        2013, 67.0],\n",
       "       [\"The Maine Women's Health Study: I. Outcomes of hysterectomy.\",\n",
       "        1994, 67.0],\n",
       "       ['The Lung Health Study: Airway Responsiveness to Inhaled Methacholine in Smokers with Mild to Moderate Airflow Limitation',\n",
       "        1992, 64.0],\n",
       "       ['Cohort profile: The Norwegian Mother and Child Cohort Study (MoBa)',\n",
       "        2006, 62.0],\n",
       "       ['Cohort Profile: Design and methods of the PREDIMED study', 2012,\n",
       "        62.0],\n",
       "       ['Cohort Profile: The Study of Health in Pomerania', 2011, 60.0],\n",
       "       [\"The San Francisco Men's Health Study: III. Reduction in human immunodeficiency virus transmission among homosexual/bisexual men, 1982-86\",\n",
       "        1987, 59.0],\n",
       "       ['The Social Support and Family Health Study: a randomised controlled trial and economic evaluation of two alternative forms of postnatal support for mothers living in disadvantaged inner-city areas',\n",
       "        2004, 53.0],\n",
       "       [\"The Shanghai Women's Health Study: Rationale, Study Design, and Baseline Characteristics\",\n",
       "        2005, 53.0],\n",
       "       ['Design and baseline characteristics of The Epidemiology and Natural History of Asthma: Outcomes and Treatment Regimens (TENOR) study: a large cohort of patients with severe or difficult-to-treat asthma',\n",
       "        2004, 52.0],\n",
       "       ['Cohort Profile: The INMA—INfancia y Medio Ambiente—(Environment and Childhood) Project',\n",
       "        2012, 51.0],\n",
       "       ['The Swiss HIV Cohort Study: Rationale, organization and selected baseline characteristics',\n",
       "        1994, 51.0],\n",
       "       ['Cohort Profile: The English Longitudinal Study of Ageing', 2013,\n",
       "        51.0],\n",
       "       ['The Pacing Therapies for Congestive Heart Failure (PATH-CHF) study: rationale, design, and endpoints of a prospective randomized multicenter study.',\n",
       "        1999, 50.0],\n",
       "       ['Design and baseline participant characteristics of the Human Immunodeficiency Virus Epidemiology Research (HER) Study: a prospective cohort study of human immunodeficiency virus infection in US women.',\n",
       "        1997, 50.0],\n",
       "       ['The Oslo Health Study: The impact of self-selection in a large, population-based survey.',\n",
       "        2004, 49.0],\n",
       "       [\"Cohort profile: The Southampton Women's Survey\", 2006, 49.0],\n",
       "       ['Cohort Profile: TwinsUK and Healthy Ageing Twin Study', 2013,\n",
       "        48.0],\n",
       "       [\"The Maine Women's Health Study: II. Outcomes of nonsurgical management of leiomyomas, abnormal bleeding, and chronic pelvic pain.\",\n",
       "        1994, 48.0],\n",
       "       ['The Generation R Study Biobank: a resource for epidemiological studies in children and their parents',\n",
       "        2007, 47.0],\n",
       "       ['Cohort Profile: The Lothian Birth Cohorts of 1921 and 1936',\n",
       "        2012, 47.0],\n",
       "       [\"Cohort Profile: The Australian Longitudinal Study on Women's Health\",\n",
       "        2005, 45.0],\n",
       "       ['Cohort Profile: The HUNT Study, Norway', 2013, 45.0],\n",
       "       ['Cohort profile: The Tromsø Study', 2012, 43.0],\n",
       "       ['The IDEFICS cohort: design, characteristics and participation in the baseline survey.',\n",
       "        2011, 42.0],\n",
       "       ['Cohort Profile: the Health and Retirement Study (HRS).', 2014,\n",
       "        42.0]], dtype=object)"
      ]
     },
     "execution_count": 50,
     "metadata": {},
     "output_type": "execute_result"
    }
   ],
   "source": [
    "biobank[['OriginalTitle', 'Year', 'Hindex']].head(40).values"
   ]
  }
 ],
 "metadata": {
  "kernelspec": {
   "display_name": "Python 3 (ipykernel)",
   "language": "python",
   "name": "python3"
  },
  "language_info": {
   "codemirror_mode": {
    "name": "ipython",
    "version": 3
   },
   "file_extension": ".py",
   "mimetype": "text/x-python",
   "name": "python",
   "nbconvert_exporter": "python",
   "pygments_lexer": "ipython3",
   "version": "3.9.7"
  }
 },
 "nbformat": 4,
 "nbformat_minor": 5
}
