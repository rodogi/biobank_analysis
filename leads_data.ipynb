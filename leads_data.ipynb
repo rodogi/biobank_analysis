{
 "cells": [
  {
   "cell_type": "markdown",
   "id": "ecb8e7e2-8431-472d-9485-96e19593ca87",
   "metadata": {},
   "source": [
    "# Leads Data\n",
    "\n",
    "We have manually curated data regardgind the corresping authors of biobanks. We are going to get information about them.\n",
    "\n",
    "We previously need to update their cites."
   ]
  },
  {
   "cell_type": "code",
   "execution_count": null,
   "id": "6ec52f25-2231-4c5c-a7a2-b5eb2df24dac",
   "metadata": {},
   "outputs": [],
   "source": [
    "import pandas as pd\n",
    "import numpy as np"
   ]
  }
 ],
 "metadata": {
  "kernelspec": {
   "display_name": "Python 3 (ipykernel)",
   "language": "python",
   "name": "python3"
  },
  "language_info": {
   "codemirror_mode": {
    "name": "ipython",
    "version": 3
   },
   "file_extension": ".py",
   "mimetype": "text/x-python",
   "name": "python",
   "nbconvert_exporter": "python",
   "pygments_lexer": "ipython3",
   "version": "3.9.7"
  }
 },
 "nbformat": 4,
 "nbformat_minor": 5
}
