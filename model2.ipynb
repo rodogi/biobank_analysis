{
 "cells": [
  {
   "cell_type": "markdown",
   "id": "6fe741ea-2b33-451a-834f-12ee605cbac1",
   "metadata": {},
   "source": [
    "# Model 2\n",
    "We therefore built a logistic regression model (inherent properties model) to predict the probability P($a_i=1$) that a biobank $i$ will be top-tier ($h$-index is an outlier of the distribution) two years after its publication:\n",
    "\n",
    "\n",
    "$$\n",
    " \\text{log}\\frac{P(a_i=1)}{1- P(a_i=1)} \\propto \\beta_1 \\times g_i + \\beta_2 \\times r_i + \\beta_3 \\times c_i + \\beta_4 \\times n_i + \\beta_5 \\times f_i.\n",
    "$$\n",
    "\n",
    "Given the gender of its lead ($g_i$), the rank of their affiliation $r_i$, their citations at the time the biobank was created kind $c_i$ (log scale), the team size of the biobank $n_i$ (log scale), and its female propotion $f_i$."
   ]
  },
  {
   "cell_type": "code",
   "execution_count": 1,
   "id": "84485af7-da6a-48e7-ad64-23364cae8a8c",
   "metadata": {},
   "outputs": [],
   "source": [
    "from sklearn.linear_model import LogisticRegression\n",
    "from sklearn.model_selection import train_test_split\n",
    "from sklearn.model_selection import cross_val_score, cross_validate\n",
    "from sklearn.preprocessing import MinMaxScaler\n",
    "from sklearn import metrics\n",
    "\n",
    "import pandas as pd\n",
    "import numpy as np\n",
    "import matplotlib.pyplot as plt\n",
    "import seaborn as sns"
   ]
  },
  {
   "cell_type": "code",
   "execution_count": 14,
   "id": "9ac32914-af12-485b-8fa3-cd4da263b204",
   "metadata": {},
   "outputs": [],
   "source": [
    "cohort = pd.read_csv('../../small_data/processed/manual_cohort.csv')\n",
    "cohort = cohort[cohort['Year'] <= 2019]\n",
    "cohort = cohort[(cohort['Hindex'] > 0)]\n",
    "cohort = cohort[(cohort['CitationPI'] > 0)]"
   ]
  },
  {
   "cell_type": "code",
   "execution_count": 3,
   "id": "a10dff4d-8630-4100-aa63-a1d1d161e654",
   "metadata": {},
   "outputs": [],
   "source": [
    "cohort['Lead'] = cohort['PI']\n",
    "cohort['LeadCitationCount'] = cohort['CitationPI']"
   ]
  },
  {
   "cell_type": "markdown",
   "id": "0cd2ef86-66ae-4a17-8050-537ab6708b2a",
   "metadata": {},
   "source": [
    "# I. Let get information about the team"
   ]
  },
  {
   "cell_type": "code",
   "execution_count": 5,
   "id": "ad4ca561-3975-4bfa-ada5-53dd04036c3a",
   "metadata": {},
   "outputs": [],
   "source": [
    "authors = pd.read_csv('../../small_data/cohort_author_affiliation_big_model.csv')"
   ]
  },
  {
   "cell_type": "markdown",
   "id": "8a922db3-d9ff-43c4-a4ea-66d89dc8e1e3",
   "metadata": {},
   "source": [
    "### 1) Gender of PI"
   ]
  },
  {
   "cell_type": "code",
   "execution_count": 8,
   "id": "67c8f797-ab9f-49a9-9fae-90a589592c5d",
   "metadata": {},
   "outputs": [],
   "source": [
    "pi_gender = authors.groupby('AuthorId')['gender'].first().reset_index()\n",
    "pi_gender.columns = ['Lead', 'LeadGender']\n",
    "\n",
    "cohort = cohort.merge(pi_gender, how='left')"
   ]
  },
  {
   "cell_type": "markdown",
   "id": "c73615fd-9ba0-4ba7-be92-ac4fca4cdd29",
   "metadata": {},
   "source": [
    "### 2) PI Affiliation rank"
   ]
  },
  {
   "cell_type": "code",
   "execution_count": 9,
   "id": "bdc13cef-ed57-405e-bb4a-0123bcdf7ffb",
   "metadata": {},
   "outputs": [],
   "source": [
    "pi_aff_rank = authors.groupby('AuthorId')['rank_affiliation'].first().reset_index()\n",
    "pi_aff_rank.columns = ['Lead', 'AffiliationRank']\n",
    "cohort = cohort.merge(pi_aff_rank, how='left')"
   ]
  },
  {
   "cell_type": "markdown",
   "id": "19049453-5e0d-4721-b01d-d66249fdfa64",
   "metadata": {
    "jp-MarkdownHeadingCollapsed": true,
    "tags": []
   },
   "source": [
    "### 3) Lead citations at the biobank creation"
   ]
  },
  {
   "cell_type": "markdown",
   "id": "066717bd-2590-4b2b-80b9-56e8458741ab",
   "metadata": {},
   "source": [
    "### 4) Team size"
   ]
  },
  {
   "cell_type": "code",
   "execution_count": 10,
   "id": "c77cb5b7-0c0e-46b3-99c6-849aeb92a1ab",
   "metadata": {},
   "outputs": [],
   "source": [
    "size = authors.groupby('PaperId').size().reset_index()\n",
    "size.columns = ['PaperId', 'TeamSize']\n",
    "cohort = cohort.merge(size, how='left')"
   ]
  },
  {
   "cell_type": "markdown",
   "id": "9e2c6fe1-be12-4679-aa74-60f21c2f5d0f",
   "metadata": {},
   "source": [
    "### 5) Female proportion"
   ]
  },
  {
   "cell_type": "code",
   "execution_count": 11,
   "id": "e60e2a42-edc9-4a15-a29e-92b377e75822",
   "metadata": {},
   "outputs": [],
   "source": [
    "fem = authors.groupby('PaperId')['male_proportion'].first().reset_index()\n",
    "fem['FemalePropotion'] = 1 - fem['male_proportion']\n",
    "del fem['male_proportion']\n",
    "cohort = cohort.merge(fem, how='left')"
   ]
  },
  {
   "cell_type": "markdown",
   "id": "8270a3f1-5375-4bcc-975b-35a21fe742c9",
   "metadata": {},
   "source": [
    "# II. Prepare the model"
   ]
  },
  {
   "cell_type": "markdown",
   "id": "7de83b60-4d6b-410e-b302-41174e4323ef",
   "metadata": {},
   "source": [
    "### Response variable is 1 if $h$-index of biobank is an outlier"
   ]
  },
  {
   "cell_type": "code",
   "execution_count": 30,
   "id": "1e162314-8905-422b-be88-10ec339e267b",
   "metadata": {},
   "outputs": [],
   "source": [
    "cohort['outlier1'] = 0\n",
    "q75 = cohort['Hindex'].quantile(.75)\n",
    "q25 = cohort['Hindex'].quantile(.25)\n",
    "cohort.loc[cohort['Hindex'] >= 1.5 * (q75 - q25), 'outlier1'] = 1"
   ]
  },
  {
   "cell_type": "code",
   "execution_count": 31,
   "id": "48cc4924-5116-4932-b01d-17b044c288de",
   "metadata": {},
   "outputs": [],
   "source": [
    "cohort['TopLead'] = 0\n",
    "q75 = cohort['LeadCitationCount'].quantile(.75)\n",
    "q25 = cohort['LeadCitationCount'].quantile(.25)\n",
    "cohort.loc[cohort['LeadCitationCount'] >= 1.5 * (q75 - q25), 'TopLead'] = 1"
   ]
  },
  {
   "cell_type": "code",
   "execution_count": 32,
   "id": "f00f81b4-c90e-4ea8-be64-7801272d37fe",
   "metadata": {},
   "outputs": [],
   "source": [
    "cohort['LargeTeam'] = 0\n",
    "q75 = cohort['TeamSize'].quantile(.75)\n",
    "q25 = cohort['TeamSize'].quantile(.25)\n",
    "cohort.loc[cohort['TeamSize'] >= 1.5 * (q75 - q25), 'LargeTeam'] = 1"
   ]
  },
  {
   "cell_type": "code",
   "execution_count": 33,
   "id": "a97158df-196a-4790-b443-396340aa5602",
   "metadata": {},
   "outputs": [],
   "source": [
    "cohort['Balanced'] = 0\n",
    "cohort.loc[cohort['FemalePropotion'].between(0.45, .55), 'Balanced'] = 1"
   ]
  },
  {
   "cell_type": "code",
   "execution_count": 34,
   "id": "c437b48b-6766-4693-b1c7-600e6882e092",
   "metadata": {},
   "outputs": [],
   "source": [
    "features = [\n",
    "    'LeadGender',\n",
    "    'AffiliationRank',\n",
    "    'LeadCitationCount',\n",
    "    'TeamSize',\n",
    "    'Balanced'\n",
    "]\n",
    "\n",
    "c = cohort.copy()\n",
    "c = c.dropna(subset=features)\n",
    "\n",
    "c['outlier1'] = 0\n",
    "q75 = c['Hindex'].quantile(.75)\n",
    "q25 = c['Hindex'].quantile(.25)\n",
    "c.loc[c['Hindex'] >= 1.5 * (q75 - q25), 'outlier1'] = 1\n",
    "\n",
    "cohort_t = c[features + ['outlier1']].copy().dropna()\n",
    "\n",
    "\n",
    "\n",
    "cohort_t['LeadGender'] = cohort_t['LeadGender'].replace({'female': 1,\n",
    "                                             'male': 0})\n",
    "\n",
    "#cohort_t['AffiliationRank'] = np.log10(cohort_t['AffiliationRank'])\n",
    "\n",
    "cohort_t['LeadCitationCount'] = np.log10(cohort_t['LeadCitationCount'] + 1)\n",
    "\n",
    "cohort_t['TeamSize'] = np.log2(cohort_t['TeamSize'])\n",
    "\n",
    "X, y = cohort_t[features].values, cohort_t['outlier1'].values\n",
    "\n",
    "scaler = MinMaxScaler((0, 1))\n",
    "\n",
    "X = scaler.fit_transform(X)"
   ]
  },
  {
   "cell_type": "code",
   "execution_count": 35,
   "id": "7cd8f91b-61ee-4b80-acfa-77dcdbf8b1e3",
   "metadata": {},
   "outputs": [
    {
     "name": "stdout",
     "output_type": "stream",
     "text": [
      "The mean AUC for this model is 0.6071428571428571\n"
     ]
    }
   ],
   "source": [
    "## prop_0 = cohort_t['outlier1'].value_counts(normalize=True).loc[0]\n",
    "prop_1 = cohort_t['outlier1'].value_counts(normalize=True).loc[1]\n",
    "\n",
    "clf = LogisticRegression(class_weight={0: 0.2, 1: .7}, C=1000)\n",
    "\n",
    "scores = cross_val_score(clf, X, y, cv=10, scoring='roc_auc')\n",
    "cv_results = cross_validate(clf, X, y, cv=10, return_estimator=True)\n",
    "\n",
    "print(f\"The mean AUC for this model is {np.mean(scores)}\")"
   ]
  },
  {
   "cell_type": "code",
   "execution_count": 36,
   "id": "d5c99ad1-c190-46ef-a11d-1a28c367a79d",
   "metadata": {},
   "outputs": [
    {
     "data": {
      "text/html": [
       "<div>\n",
       "<style scoped>\n",
       "    .dataframe tbody tr th:only-of-type {\n",
       "        vertical-align: middle;\n",
       "    }\n",
       "\n",
       "    .dataframe tbody tr th {\n",
       "        vertical-align: top;\n",
       "    }\n",
       "\n",
       "    .dataframe thead th {\n",
       "        text-align: right;\n",
       "    }\n",
       "</style>\n",
       "<table border=\"1\" class=\"dataframe\">\n",
       "  <thead>\n",
       "    <tr style=\"text-align: right;\">\n",
       "      <th></th>\n",
       "      <th>LeadGender</th>\n",
       "      <th>AffiliationRank</th>\n",
       "      <th>LeadCitationCount</th>\n",
       "      <th>TeamSize</th>\n",
       "      <th>Balanced</th>\n",
       "    </tr>\n",
       "  </thead>\n",
       "  <tbody>\n",
       "    <tr>\n",
       "      <th>0</th>\n",
       "      <td>0.581011</td>\n",
       "      <td>-1.653791</td>\n",
       "      <td>1.810981</td>\n",
       "      <td>1.295531</td>\n",
       "      <td>0.58026</td>\n",
       "    </tr>\n",
       "  </tbody>\n",
       "</table>\n",
       "</div>"
      ],
      "text/plain": [
       "   LeadGender  AffiliationRank  LeadCitationCount  TeamSize  Balanced\n",
       "0    0.581011        -1.653791           1.810981  1.295531   0.58026"
      ]
     },
     "execution_count": 36,
     "metadata": {},
     "output_type": "execute_result"
    }
   ],
   "source": [
    "C = []\n",
    "for est in cv_results['estimator']:\n",
    "    C.append(est.coef_)\n",
    "C = np.concatenate(C)\n",
    "coef = np.mean(C, axis=0)\n",
    "coef = pd.DataFrame([coef], columns=features)\n",
    "coef"
   ]
  },
  {
   "cell_type": "code",
   "execution_count": 37,
   "id": "344723d0-1923-4fd5-9f33-e70a44b93bc9",
   "metadata": {},
   "outputs": [
    {
     "data": {
      "text/plain": [
       "array([[ 0.        , -0.51642673,  0.28784535,  0.49632766,  1.        ]])"
      ]
     },
     "execution_count": 37,
     "metadata": {},
     "output_type": "execute_result"
    }
   ],
   "source": [
    "scaler.transform([[0, 3.65, 3, 3, 1]])"
   ]
  },
  {
   "cell_type": "code",
   "execution_count": 38,
   "id": "6be32032-95d3-44c5-9dc9-28312827392d",
   "metadata": {},
   "outputs": [
    {
     "data": {
      "text/plain": [
       "array([[0.13024311, 0.86975689]])"
      ]
     },
     "execution_count": 38,
     "metadata": {},
     "output_type": "execute_result"
    }
   ],
   "source": [
    "cv_results['estimator'][0].predict_proba(scaler.transform([[1, 3.65, 4, 3, 1]]))"
   ]
  },
  {
   "cell_type": "code",
   "execution_count": 39,
   "id": "2aa5d4c3-0926-47ad-ae5e-e5264eefa772",
   "metadata": {},
   "outputs": [
    {
     "data": {
      "text/plain": [
       "array([[0.18353202, 0.81646798]])"
      ]
     },
     "execution_count": 39,
     "metadata": {},
     "output_type": "execute_result"
    }
   ],
   "source": [
    "cv_results['estimator'][0].predict_proba(scaler.transform([[1, 3.65, 3, 3, 1]]))"
   ]
  },
  {
   "cell_type": "code",
   "execution_count": 40,
   "id": "2c62c405-e722-4025-9819-c09ab59fed29",
   "metadata": {},
   "outputs": [
    {
     "data": {
      "text/plain": [
       "array([[0.26642761, 0.73357239]])"
      ]
     },
     "execution_count": 40,
     "metadata": {},
     "output_type": "execute_result"
    }
   ],
   "source": [
    "cv_results['estimator'][0].predict_proba(scaler.transform([[0, 3.65, 4, 3, 0]]))"
   ]
  },
  {
   "cell_type": "code",
   "execution_count": 41,
   "id": "be3b176c-b3dd-46cf-9b9e-469069360198",
   "metadata": {},
   "outputs": [],
   "source": [
    "coef.columns = ['PI Gender', 'PI Affiliation rank', 'PI Citations', 'Team\\nSize', 'Gender\\nBalance']"
   ]
  },
  {
   "cell_type": "code",
   "execution_count": 42,
   "id": "6f3bd655-21a7-4bde-ba4c-0404379f2e7c",
   "metadata": {},
   "outputs": [
    {
     "data": {
      "image/png": "[encoded data removed]",
      "text/plain": [
       "<Figure size 432x288 with 1 Axes>"
      ]
     },
     "metadata": {
      "needs_background": "light"
     },
     "output_type": "display_data"
    }
   ],
   "source": [
    "ax = sns.barplot(data=coef, orient='h', color='gray')\n",
    "ax.set_ylabel('Model Coefficent')\n",
    "ax.set_ylabel('')\n",
    "\n",
    "plt.yticks(fontsize=14)\n",
    "plt.xticks(rotation=0, fontsize=14);"
   ]
  }
 ],
 "metadata": {
  "kernelspec": {
   "display_name": "Python 3 (ipykernel)",
   "language": "python",
   "name": "python3"
  },
  "language_info": {
   "codemirror_mode": {
    "name": "ipython",
    "version": 3
   },
   "file_extension": ".py",
   "mimetype": "text/x-python",
   "name": "python",
   "nbconvert_exporter": "python",
   "pygments_lexer": "ipython3",
   "version": "3.9.7"
  }
 },
 "nbformat": 4,
 "nbformat_minor": 5
}
