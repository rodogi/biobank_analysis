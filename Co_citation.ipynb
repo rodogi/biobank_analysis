{
 "cells": [
  {
   "cell_type": "markdown",
   "id": "cf848d1b-eeb5-4e9b-97aa-af5beaef2097",
   "metadata": {},
   "source": [
    "# Co-citation network\n",
    "\n",
    "Review the co-citation network under an impact approach."
   ]
  },
  {
   "cell_type": "code",
   "execution_count": 2,
   "id": "c84c67cc-e86c-4477-b980-16e4523dd043",
   "metadata": {},
   "outputs": [],
   "source": [
    "import pandas as pd\n",
    "import numpy as np\n",
    "import matplotlib.pyplot as plt\n",
    "import seaborn as sns"
   ]
  },
  {
   "cell_type": "code",
   "execution_count": 3,
   "id": "1e60f588-8423-4d88-b18b-4f988b019dc8",
   "metadata": {},
   "outputs": [],
   "source": [
    "import graph_tool.all as gt"
   ]
  },
  {
   "cell_type": "code",
   "execution_count": 4,
   "id": "0b65fe9a-b053-4341-a271-f59416b5f0f1",
   "metadata": {},
   "outputs": [],
   "source": [
    "g = gt.load_graph('../../network/cites.graphml')"
   ]
  },
  {
   "cell_type": "code",
   "execution_count": 5,
   "id": "9ceee782-8a76-493d-adc8-c4d9e0c0fd86",
   "metadata": {},
   "outputs": [],
   "source": [
    "df = pd.DataFrame(zip(g.vp['id'],\n",
    "                      g.vp['block'],\n",
    "                      g.vp['name']), columns=['PaperId', 'Block', 'OriginalTitle'])"
   ]
  },
  {
   "cell_type": "code",
   "execution_count": 42,
   "id": "43953151-b168-459e-b3b2-23adabc00ba5",
   "metadata": {},
   "outputs": [
    {
     "name": "stderr",
     "output_type": "stream",
     "text": [
      "/home/r.dorantesgilardi/.conda/envs/bb/lib/python3.9/site-packages/IPython/core/interactiveshell.py:3444: DtypeWarning: Columns (7,17,18,25) have mixed types.Specify dtype option on import or set low_memory=False.\n",
      "  exec(code_obj, self.user_global_ns, self.user_ns)\n"
     ]
    }
   ],
   "source": [
    "mesh = pd.read_csv('../../small_data/cites_mesh.csv')"
   ]
  },
  {
   "cell_type": "code",
   "execution_count": 31,
   "id": "04c166f9-26af-4376-93f2-178901329c57",
   "metadata": {},
   "outputs": [],
   "source": [
    "mesh = impact[['PaperId', 'DescriptorUI', 'DescriptorName',\n",
    "       'QualifierUI', 'QualifierName', 'IsMajorTopic']]"
   ]
  },
  {
   "cell_type": "code",
   "execution_count": 47,
   "id": "8db8ea98-f646-4b80-b8f0-46ccc552844e",
   "metadata": {},
   "outputs": [],
   "source": [
    "df.columns = ['PaperReferenceId', 'Block', 'Name']"
   ]
  },
  {
   "cell_type": "code",
   "execution_count": 49,
   "id": "d5ea1a2f-851a-407b-ad33-e381b2c0348e",
   "metadata": {},
   "outputs": [],
   "source": [
    "mesh = mesh.merge(df, how='left')"
   ]
  },
  {
   "cell_type": "code",
   "execution_count": 56,
   "id": "8be014ba-f5a5-4b64-b3b0-4631380d495c",
   "metadata": {},
   "outputs": [
    {
     "data": {
      "text/plain": [
       "Cardiovascular Diseases                      9574\n",
       "Genetic Predisposition to Disease            2625\n",
       "Coronary Disease                             2119\n",
       "Alzheimer Disease                            1520\n",
       "Coronary Artery Disease                      1376\n",
       "Chronic Disease                              1300\n",
       "Pulmonary Disease, Chronic Obstructive       1196\n",
       "Disease Progression                          1124\n",
       "Parkinson Disease                             644\n",
       "Kidney Diseases                               541\n",
       "Carotid Artery Diseases                       539\n",
       "Occupational Diseases                         528\n",
       "Fabry Disease                                 507\n",
       "Heart Diseases                                485\n",
       "Metabolic Diseases                            471\n",
       "Peripheral Arterial Disease                   359\n",
       "Respiratory Tract Diseases                    335\n",
       "Crohn Disease                                 326\n",
       "Non-alcoholic Fatty Liver Disease             301\n",
       "Inflammatory Bowel Diseases                   275\n",
       "Lung Diseases                                 251\n",
       "Vascular Diseases                             197\n",
       "Acute Disease                                 192\n",
       "Cerebral Small Vessel Diseases                190\n",
       "Lung Diseases, Obstructive                    170\n",
       "Diseases in Twins                             161\n",
       "Musculoskeletal Diseases                      157\n",
       "Heart Valve Diseases                          155\n",
       "Liver Diseases                                149\n",
       "Nervous System Diseases                       149\n",
       "Communicable Diseases                         147\n",
       "Thyroid Diseases                              143\n",
       "Disease Susceptibility                        141\n",
       "Noncommunicable Diseases                      139\n",
       "Disease                                       137\n",
       "Brain Diseases                                135\n",
       "Disease Models, Animal                        127\n",
       "Peripheral Nervous System Diseases            127\n",
       "Neurodegenerative Diseases                    124\n",
       "Infectious Disease Transmission, Vertical     121\n",
       "Disease Management                            118\n",
       "Gastrointestinal Diseases                     118\n",
       "Agricultural Workers' Diseases                117\n",
       "Retinal Diseases                              117\n",
       "Heart Disease Risk Factors                    109\n",
       "Sexually Transmitted Diseases                 108\n",
       "Autoimmune Diseases                           102\n",
       "Asymptomatic Diseases                          95\n",
       "Periodontal Diseases                           95\n",
       "Celiac Disease                                 87\n",
       "Genital Diseases, Female                       85\n",
       "Peripheral Vascular Diseases                   85\n",
       "Uterine Diseases                               81\n",
       "Genetic Diseases, Inborn                       78\n",
       "Bone Diseases, Metabolic                       76\n",
       "International Classification of Diseases       74\n",
       "Virus Diseases                                 74\n",
       "Communicable Disease Control                   63\n",
       "Mouth Diseases                                 61\n",
       "Foot Diseases                                  60\n",
       "Name: DescriptorName, dtype: int64"
      ]
     },
     "execution_count": 56,
     "metadata": {},
     "output_type": "execute_result"
    }
   ],
   "source": [
    "mesh[mesh['DescriptorName'].fillna('').str.contains('disease', case=False)]['DescriptorName'].value_counts().head(60)"
   ]
  },
  {
   "cell_type": "code",
   "execution_count": 62,
   "id": "195e4d94-07ff-4fd9-a449-066a4204393d",
   "metadata": {},
   "outputs": [
    {
     "data": {
      "text/plain": [
       "Humans                        4977\n",
       "Female                        3994\n",
       "Male                          3864\n",
       "Aged                          3523\n",
       "Middle Aged                   2977\n",
       "Longitudinal Studies          1980\n",
       "Aged, 80 and over             1907\n",
       "Aging                         1845\n",
       "Adult                         1397\n",
       "Depression                    1359\n",
       "Australia                     1300\n",
       "Risk Factors                  1274\n",
       "China                         1209\n",
       "Cross-Sectional Studies        910\n",
       "Cohort Studies                 894\n",
       "Obesity                        783\n",
       "Cardiovascular Diseases        750\n",
       "Cognitive Dysfunction          748\n",
       "Prospective Studies            734\n",
       "Hypertension                   706\n",
       "Surveys and Questionnaires     670\n",
       "Prevalence                     640\n",
       "Young Adult                    584\n",
       "Age Factors                    523\n",
       "Socioeconomic Factors          521\n",
       "Dementia                       518\n",
       "Adolescent                     517\n",
       "Cognition                      469\n",
       "Body Mass Index                457\n",
       "Smoking                        451\n",
       "Cognition Disorders            430\n",
       "Diabetes Mellitus, Type 2      425\n",
       "Health Status                  423\n",
       "United States                  422\n",
       "Biomarkers                     389\n",
       "Netherlands                    385\n",
       "Sex Factors                    382\n",
       "Stroke                         381\n",
       "Health Surveys                 380\n",
       "Geriatric Assessment           375\n",
       "Exercise                       364\n",
       "New South Wales                362\n",
       "Follow-Up Studies              357\n",
       "Incidence                      353\n",
       "Chronic Disease                341\n",
       "Quality of Life                327\n",
       "Diet                           326\n",
       "Self Report                    325\n",
       "Diabetes Mellitus              323\n",
       "England                        316\n",
       "Alcohol Drinking               312\n",
       "Logistic Models                311\n",
       "Activities of Daily Living     311\n",
       "Risk Assessment                292\n",
       "Retirement                     276\n",
       "Time Factors                   273\n",
       "Independent Living             270\n",
       "Depressive Disorder            267\n",
       "Residence Characteristics      266\n",
       "Overweight                     265\n",
       "Name: DescriptorName, dtype: int64"
      ]
     },
     "execution_count": 62,
     "metadata": {},
     "output_type": "execute_result"
    }
   ],
   "source": [
    "mesh[mesh['Block']==120]['DescriptorName'].value_counts().head(60)"
   ]
  },
  {
   "cell_type": "code",
   "execution_count": 10,
   "id": "3002da40-21ac-4f9b-bf6c-9cf37c0eeee8",
   "metadata": {},
   "outputs": [
    {
     "data": {
      "text/plain": [
       "array([125,  75,  18, 120,  93,  60])"
      ]
     },
     "execution_count": 10,
     "metadata": {},
     "output_type": "execute_result"
    }
   ],
   "source": [
    "df['Block'].unique()"
   ]
  },
  {
   "cell_type": "code",
   "execution_count": 22,
   "id": "a8686851-d699-4c62-b849-b123caa04331",
   "metadata": {},
   "outputs": [
    {
     "name": "stdout",
     "output_type": "stream",
     "text": [
      "<class 'pandas.core.frame.DataFrame'>\n",
      "RangeIndex: 540 entries, 0 to 539\n",
      "Data columns (total 3 columns):\n",
      " #   Column         Non-Null Count  Dtype \n",
      "---  ------         --------------  ----- \n",
      " 0   PaperId        540 non-null    int64 \n",
      " 1   Block          540 non-null    int64 \n",
      " 2   OriginalTitle  540 non-null    object\n",
      "dtypes: int64(2), object(1)\n",
      "memory usage: 12.8+ KB\n"
     ]
    }
   ],
   "source": [
    "df.info()"
   ]
  },
  {
   "cell_type": "code",
   "execution_count": 23,
   "id": "846f57d1-257b-4d5a-a432-eee804f91832",
   "metadata": {},
   "outputs": [
    {
     "data": {
      "text/plain": [
       "58277"
      ]
     },
     "execution_count": 23,
     "metadata": {},
     "output_type": "execute_result"
    }
   ],
   "source": [
    "mesh['PaperId'].nunique()"
   ]
  },
  {
   "cell_type": "code",
   "execution_count": 24,
   "id": "cc2b215b-79e5-4cd9-baf9-1c9dce00b6df",
   "metadata": {},
   "outputs": [
    {
     "data": {
      "text/plain": [
       "1013"
      ]
     },
     "execution_count": 24,
     "metadata": {},
     "output_type": "execute_result"
    }
   ],
   "source": [
    "mesh['PaperReferenceId'].nunique()"
   ]
  },
  {
   "cell_type": "code",
   "execution_count": 38,
   "id": "a437b0a2-7849-4417-ae6b-a2554bca5b28",
   "metadata": {},
   "outputs": [],
   "source": [
    "who_let_the_dogs_out = set(mesh['PaperId'].unique()) & set(df['PaperId'].unique())"
   ]
  },
  {
   "cell_type": "code",
   "execution_count": 11,
   "id": "1e41ef43-13d1-4405-b640-a6fa3377438d",
   "metadata": {},
   "outputs": [
    {
     "data": {
      "text/html": [
       "<div>\n",
       "<style scoped>\n",
       "    .dataframe tbody tr th:only-of-type {\n",
       "        vertical-align: middle;\n",
       "    }\n",
       "\n",
       "    .dataframe tbody tr th {\n",
       "        vertical-align: top;\n",
       "    }\n",
       "\n",
       "    .dataframe thead th {\n",
       "        text-align: right;\n",
       "    }\n",
       "</style>\n",
       "<table border=\"1\" class=\"dataframe\">\n",
       "  <thead>\n",
       "    <tr style=\"text-align: right;\">\n",
       "      <th></th>\n",
       "      <th>PaperId</th>\n",
       "      <th>Block</th>\n",
       "      <th>OriginalTitle</th>\n",
       "    </tr>\n",
       "  </thead>\n",
       "  <tbody>\n",
       "    <tr>\n",
       "      <th>0</th>\n",
       "      <td>282133</td>\n",
       "      <td>125</td>\n",
       "      <td>Cohort Profile: Antiretroviral Therapy in Lowe...</td>\n",
       "    </tr>\n",
       "    <tr>\n",
       "      <th>1</th>\n",
       "      <td>2116115303</td>\n",
       "      <td>125</td>\n",
       "      <td>Cohort Profile: The Paediatric Antiretroviral ...</td>\n",
       "    </tr>\n",
       "    <tr>\n",
       "      <th>2</th>\n",
       "      <td>2125344087</td>\n",
       "      <td>125</td>\n",
       "      <td>Cohort Profile: The North American AIDS Cohort...</td>\n",
       "    </tr>\n",
       "    <tr>\n",
       "      <th>3</th>\n",
       "      <td>2131002918</td>\n",
       "      <td>125</td>\n",
       "      <td>Cohort Profile: Caribbean, Central and South A...</td>\n",
       "    </tr>\n",
       "    <tr>\n",
       "      <th>4</th>\n",
       "      <td>2144304933</td>\n",
       "      <td>125</td>\n",
       "      <td>Cohort Profile: The international epidemiologi...</td>\n",
       "    </tr>\n",
       "  </tbody>\n",
       "</table>\n",
       "</div>"
      ],
      "text/plain": [
       "      PaperId  Block                                      OriginalTitle\n",
       "0      282133    125  Cohort Profile: Antiretroviral Therapy in Lowe...\n",
       "1  2116115303    125  Cohort Profile: The Paediatric Antiretroviral ...\n",
       "2  2125344087    125  Cohort Profile: The North American AIDS Cohort...\n",
       "3  2131002918    125  Cohort Profile: Caribbean, Central and South A...\n",
       "4  2144304933    125  Cohort Profile: The international epidemiologi..."
      ]
     },
     "execution_count": 11,
     "metadata": {},
     "output_type": "execute_result"
    }
   ],
   "source": [
    "df.head()"
   ]
  }
 ],
 "metadata": {
  "kernelspec": {
   "display_name": "Python 3 (ipykernel)",
   "language": "python",
   "name": "python3"
  },
  "language_info": {
   "codemirror_mode": {
    "name": "ipython",
    "version": 3
   },
   "file_extension": ".py",
   "mimetype": "text/x-python",
   "name": "python",
   "nbconvert_exporter": "python",
   "pygments_lexer": "ipython3",
   "version": "3.9.7"
  }
 },
 "nbformat": 4,
 "nbformat_minor": 5
}
