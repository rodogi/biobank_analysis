{
 "cells": [
  {
   "cell_type": "markdown",
   "id": "11c6d160-8663-428a-9fdb-34d63302ced1",
   "metadata": {},
   "source": [
    "# Model 1\n",
    "We therefore built a logistic regression model (inherent properties model) to predict the probability P($a_i=1$) that a biobank $i$ will be top-tier ($h$-index is an outlier of the distribution) two years after its publication:\n",
    "\n",
    "\n",
    "$$\n",
    " \\text{log}\\frac{P(a_i=1)}{1- P(a_i=1)} \\propto \\beta_1 \\times n_i + \\beta_2 \\times d_i + \\beta_3 \\times k_i + \\beta_4 \\times g_i + \\beta_5 \\times p_i.\n",
    "$$\n",
    "\n",
    "Given its cohort size (in logarithmic space, $n_i$), data availability $d_i$, kind $k_i$ (1 for population based, 0 for health-system based), genetic data availability $g_i$ (yes/no), and purpose $p_i$ (1 for general purpose, 0 for disease specific)."
   ]
  },
  {
   "cell_type": "code",
   "execution_count": 1,
   "id": "474b3926-e2c4-4d1f-b359-2bfd325f5cb1",
   "metadata": {},
   "outputs": [],
   "source": [
    "from sklearn.linear_model import LogisticRegression\n",
    "from sklearn.model_selection import train_test_split\n",
    "from sklearn.model_selection import cross_val_score, cross_validate\n",
    "from sklearn.preprocessing import MinMaxScaler\n",
    "from sklearn import metrics\n",
    "\n",
    "import pandas as pd\n",
    "import numpy as np\n",
    "import matplotlib.pyplot as plt\n",
    "import seaborn as sns"
   ]
  },
  {
   "cell_type": "markdown",
   "id": "d6d93dfa-36f0-43af-aeb0-5d2b13084a5a",
   "metadata": {},
   "source": [
    "# 1) Let's use only cohorts with intrinsic characteristics data"
   ]
  },
  {
   "cell_type": "code",
   "execution_count": 2,
   "id": "8fb7e88e-db25-45d7-a5d2-2809a8d2f0bb",
   "metadata": {},
   "outputs": [],
   "source": [
    "old_cohort = pd.read_csv('../../small_data/processed/old_cohort.csv', dtype={'year': 'int'})"
   ]
  },
  {
   "cell_type": "code",
   "execution_count": 4,
   "id": "87f82571-7f85-448b-9a5b-7190a6118fe5",
   "metadata": {},
   "outputs": [
    {
     "data": {
      "text/plain": [
       "(259, 47)"
      ]
     },
     "execution_count": 4,
     "metadata": {},
     "output_type": "execute_result"
    }
   ],
   "source": [
    "old_cohort.shape"
   ]
  },
  {
   "cell_type": "code",
   "execution_count": 9,
   "id": "68423909-2348-494f-8808-7eaa90bca243",
   "metadata": {},
   "outputs": [],
   "source": [
    "big_cohort = pd.read_csv('../../small_data/processed/cohort3.csv')[['PaperId', 'Hindex']]\n",
    "big_cohort.columns = big_cohort.columns.str.lower()"
   ]
  },
  {
   "cell_type": "code",
   "execution_count": 11,
   "id": "0af9af11-6046-4176-8954-127b0c2394aa",
   "metadata": {},
   "outputs": [],
   "source": [
    "old_cohort = old_cohort.merge(big_cohort, how='left')"
   ]
  },
  {
   "cell_type": "markdown",
   "id": "f4e11cb9-3fae-4858-9d30-69ab89b96a47",
   "metadata": {},
   "source": [
    "## Response Variable\n",
    "\n",
    "This will be 1 for outlier biobanks and 0 for the rest."
   ]
  },
  {
   "cell_type": "code",
   "execution_count": 3,
   "id": "119a9661-c148-43c5-be26-75ec60f6b1ed",
   "metadata": {},
   "outputs": [],
   "source": [
    "old_cohort['outlier1'] = 0\n",
    "q75 = old_cohort['h_index2'].quantile(.75)\n",
    "q25 = old_cohort['h_index2'].quantile(.25)\n",
    "old_cohort.loc[old_cohort['h_index2'] >= 1.5 * (q75 - q25), 'outlier1'] = 1"
   ]
  },
  {
   "cell_type": "code",
   "execution_count": 12,
   "id": "83180163-054b-4006-aacc-2200ac17188f",
   "metadata": {},
   "outputs": [],
   "source": [
    "old_cohort['outlier1'] = 0\n",
    "q75 = old_cohort['h_index'].quantile(.75)\n",
    "q25 = old_cohort['h_index'].quantile(.25)\n",
    "old_cohort.loc[old_cohort['h_index'] >= 1.5 * (q75 - q25), 'outlier1'] = 1"
   ]
  },
  {
   "cell_type": "markdown",
   "id": "adcbfd2d-e50c-4760-833f-a7776e746b9a",
   "metadata": {},
   "source": [
    "## Let's balance the sample"
   ]
  },
  {
   "cell_type": "code",
   "execution_count": 14,
   "id": "0c2c1ed8-ace6-41ee-b269-901dd8172715",
   "metadata": {},
   "outputs": [],
   "source": [
    "features = [\n",
    "    'N',\n",
    "    'data',\n",
    "    'kind',\n",
    "    'genetic',\n",
    "    'general_purpose']\n",
    "\n",
    "c = old_cohort.copy()\n",
    "\n",
    "cohort_t = c[features + ['outlier1']].copy().dropna()\n",
    "\n",
    "cohort_t['N'] = np.log10(cohort_t['N'])\n",
    "\n",
    "cohort_t['data'] = cohort_t['data'].replace({'open': 1,\n",
    "                                     'application': 1,\n",
    "                                     'collaboration': 0,\n",
    "                                     'fee': 0,\n",
    "                                     'institution': 0})\n",
    "\n",
    "cohort_t['kind'] = cohort_t['kind'].replace({'population': 1,\n",
    "                                             'health': 0})\n",
    "\n",
    "X, y = cohort_t[features].values, cohort_t['outlier1'].values\n",
    "\n",
    "scaler = MinMaxScaler()\n",
    "\n",
    "X = scaler.fit_transform(X)"
   ]
  },
  {
   "cell_type": "markdown",
   "id": "8c76faa9-1232-4016-aee4-5bcb9bb69569",
   "metadata": {},
   "source": [
    "## Balance the model based on the proportion of each class"
   ]
  },
  {
   "cell_type": "code",
   "execution_count": 46,
   "id": "e5b47ff0-4e1d-44fd-9a08-9e12017f469c",
   "metadata": {},
   "outputs": [
    {
     "name": "stdout",
     "output_type": "stream",
     "text": [
      "The mean AUC for this model is 0.6300925925925925\n"
     ]
    }
   ],
   "source": [
    "prop_0 = cohort_t['outlier1'].value_counts(normalize=True).loc[0]\n",
    "prop_1 = cohort_t['outlier1'].value_counts(normalize=True).loc[1]\n",
    "\n",
    "clf = LogisticRegression(class_weight={0: 1, 1: 0.1}, C=2)\n",
    "\n",
    "scores = cross_val_score(clf, X, y, cv=10, scoring='roc_auc')\n",
    "cv_results = cross_validate(clf, X, y, cv=10, return_estimator=True)\n",
    "\n",
    "print(f\"The mean AUC for this model is {np.mean(scores)}\")"
   ]
  },
  {
   "cell_type": "markdown",
   "id": "37c0e9e6-4cf8-4cf9-bfc8-acae7c2678b6",
   "metadata": {},
   "source": [
    "## Let's get the mean coefficients for each variable"
   ]
  },
  {
   "cell_type": "code",
   "execution_count": 16,
   "id": "2aa4bcc7-afa9-44cf-afd7-675fc328c8f8",
   "metadata": {},
   "outputs": [
    {
     "data": {
      "text/html": [
       "<div>\n",
       "<style scoped>\n",
       "    .dataframe tbody tr th:only-of-type {\n",
       "        vertical-align: middle;\n",
       "    }\n",
       "\n",
       "    .dataframe tbody tr th {\n",
       "        vertical-align: top;\n",
       "    }\n",
       "\n",
       "    .dataframe thead th {\n",
       "        text-align: right;\n",
       "    }\n",
       "</style>\n",
       "<table border=\"1\" class=\"dataframe\">\n",
       "  <thead>\n",
       "    <tr style=\"text-align: right;\">\n",
       "      <th></th>\n",
       "      <th>N</th>\n",
       "      <th>data</th>\n",
       "      <th>kind</th>\n",
       "      <th>genetic</th>\n",
       "      <th>general_purpose</th>\n",
       "    </tr>\n",
       "  </thead>\n",
       "  <tbody>\n",
       "    <tr>\n",
       "      <th>0</th>\n",
       "      <td>0.709432</td>\n",
       "      <td>-0.247184</td>\n",
       "      <td>0.266778</td>\n",
       "      <td>0.846708</td>\n",
       "      <td>0.364914</td>\n",
       "    </tr>\n",
       "  </tbody>\n",
       "</table>\n",
       "</div>"
      ],
      "text/plain": [
       "          N      data      kind   genetic  general_purpose\n",
       "0  0.709432 -0.247184  0.266778  0.846708         0.364914"
      ]
     },
     "execution_count": 16,
     "metadata": {},
     "output_type": "execute_result"
    }
   ],
   "source": [
    "C = []\n",
    "for est in cv_results['estimator']:\n",
    "    C.append(est.coef_)\n",
    "C = np.concatenate(C)\n",
    "coef = np.mean(C, axis=0)\n",
    "coef = pd.DataFrame([coef], columns=features)\n",
    "coef"
   ]
  },
  {
   "cell_type": "code",
   "execution_count": 17,
   "id": "cbf8dcab-484d-42e9-916b-b05c1a4eb48b",
   "metadata": {},
   "outputs": [
    {
     "data": {
      "text/plain": [
       "array([[0.54277076, 0.45722924]])"
      ]
     },
     "execution_count": 17,
     "metadata": {},
     "output_type": "execute_result"
    }
   ],
   "source": [
    "cv_results['estimator'][0].predict_proba(scaler.transform([[4, 0, 1, 0, 1]]))"
   ]
  },
  {
   "cell_type": "code",
   "execution_count": 18,
   "id": "455f79ce-1056-4ce3-96e4-27f57dad5f8a",
   "metadata": {},
   "outputs": [
    {
     "data": {
      "text/plain": [
       "array([[0.32567809, 0.67432191]])"
      ]
     },
     "execution_count": 18,
     "metadata": {},
     "output_type": "execute_result"
    }
   ],
   "source": [
    "cv_results['estimator'][0].predict_proba(scaler.transform([[4, 0, 1, 1, 1]]))"
   ]
  },
  {
   "cell_type": "code",
   "execution_count": 19,
   "id": "f16aa22f-9158-4753-b43e-1346bf656baa",
   "metadata": {},
   "outputs": [
    {
     "data": {
      "text/plain": [
       "array([[0.69779602, 0.30220398]])"
      ]
     },
     "execution_count": 19,
     "metadata": {},
     "output_type": "execute_result"
    }
   ],
   "source": [
    "cv_results['estimator'][0].predict_proba(scaler.transform([[5, 1, 1, 0, 0]]))"
   ]
  },
  {
   "cell_type": "markdown",
   "id": "4219cf55-10a8-4818-aeb6-aedf9e31fe12",
   "metadata": {},
   "source": [
    "### And a small plot"
   ]
  },
  {
   "cell_type": "code",
   "execution_count": 14,
   "id": "28e93764-6d2d-4378-9e68-28b0f30ebcd4",
   "metadata": {},
   "outputs": [],
   "source": [
    "coef.columns = ['Sample\\nSize', 'Open Data', 'Population\\nBased', 'Genetic\\nData', 'General\\nPurpose']"
   ]
  },
  {
   "cell_type": "code",
   "execution_count": 22,
   "id": "fbb32787-c639-4428-98e9-ea30c2d97092",
   "metadata": {},
   "outputs": [
    {
     "data": {
      "image/png": "[encoded data removed]",
      "text/plain": [
       "<Figure size 432x288 with 1 Axes>"
      ]
     },
     "metadata": {
      "needs_background": "light"
     },
     "output_type": "display_data"
    }
   ],
   "source": [
    "ax = sns.barplot(data=coef, orient='h', color='gray')\n",
    "ax.set_ylabel('Model Coefficent')\n",
    "ax.set_ylabel('')\n",
    "plt.yticks(fontsize=14)\n",
    "plt.xticks(fontsize=14)\n",
    "\n",
    "plt.xticks(rotation=0);"
   ]
  }
 ],
 "metadata": {
  "kernelspec": {
   "display_name": "Python 3 (ipykernel)",
   "language": "python",
   "name": "python3"
  },
  "language_info": {
   "codemirror_mode": {
    "name": "ipython",
    "version": 3
   },
   "file_extension": ".py",
   "mimetype": "text/x-python",
   "name": "python",
   "nbconvert_exporter": "python",
   "pygments_lexer": "ipython3",
   "version": "3.9.7"
  }
 },
 "nbformat": 4,
 "nbformat_minor": 5
}
